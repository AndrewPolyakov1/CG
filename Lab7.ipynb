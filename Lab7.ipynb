{
 "cells": [
  {
   "cell_type": "code",
   "execution_count": 1,
   "id": "enclosed-finance",
   "metadata": {},
   "outputs": [],
   "source": [
    "import numpy as np\n",
    "import matplotlib.pyplot as plt\n",
    "\n",
    "from __future__ import print_function\n",
    "from ipywidgets import interact, interactive, fixed, interact_manual\n",
    "import ipywidgets as widgets"
   ]
  },
  {
   "cell_type": "markdown",
   "id": "musical-external",
   "metadata": {},
   "source": [
    "<h3>Лагранж</h3>"
   ]
  },
  {
   "cell_type": "code",
   "execution_count": 2,
   "id": "broken-irish",
   "metadata": {},
   "outputs": [],
   "source": [
    "def lagranz(x,y,t):\n",
    "    z=0\n",
    "    for j in range(len(y)):\n",
    "        p1=1; p2=1\n",
    "        for i in range(len(x)):\n",
    "            if i==j:\n",
    "                p1=p1*1; p2=p2*1   \n",
    "            else: \n",
    "                p1=p1*(t-x[i])\n",
    "                p2=p2*(x[j]-x[i])\n",
    "        z=z+y[j]*p1/p2\n",
    "    return z"
   ]
  },
  {
   "cell_type": "markdown",
   "id": "confident-cattle",
   "metadata": {},
   "source": [
    "<h3>Построение кривой</h3>"
   ]
  },
  {
   "cell_type": "code",
   "execution_count": 3,
   "id": "reserved-harmony",
   "metadata": {},
   "outputs": [
    {
     "data": {
      "application/vnd.jupyter.widget-view+json": {
       "model_id": "e22b5094ea6947a194bdedcde8ed3423",
       "version_major": 2,
       "version_minor": 0
      },
      "text/plain": [
       "interactive(children=(FloatSlider(value=10.0, description='x_1', max=20.0, min=-20.0), FloatSlider(value=20.0,…"
      ]
     },
     "metadata": {},
     "output_type": "display_data"
    }
   ],
   "source": [
    "def plot_func(x_1, x_2, x_3, x_4, x_5):\n",
    "    x=np.array([0.0, 10.0, 20.0, 30.0, 40.0], dtype=float)\n",
    "    y=np.array([10, 20, 10, 10, 10], dtype=float)\n",
    "    y[0] = x_1\n",
    "    y[1] = x_2\n",
    "    y[2] = x_3\n",
    "    y[3] = x_4\n",
    "    y[4] = x_5\n",
    "    xnew=np.linspace(np.min(x),np.max(x),100)\n",
    "    ynew=[lagranz(x,y,i) for i in xnew]\n",
    "    plt.plot(x,y,'o',xnew,ynew)\n",
    "    plt.grid(True)\n",
    "    plt.show()\n",
    "\n",
    "interactive_plot = interactive(plot_func, x_1 = (-20.0, 20.0), x_2 = (-20.0, 20.0), x_3 = (-20.0, 20.0), x_4 = (-20.0, 20.0), x_5 = (-20.0, 20.0))\n",
    "\n",
    "interactive_plot.children[0].value = 10\n",
    "interactive_plot.children[1].value = 20\n",
    "interactive_plot.children[2].value = 1\n",
    "interactive_plot.children[3].value = 50\n",
    "interactive_plot.children[4].value = 20\n",
    "\n",
    "output = interactive_plot.children[-1]\n",
    "interactive_plot"
   ]
  },
  {
   "cell_type": "code",
   "execution_count": null,
   "id": "auburn-deficit",
   "metadata": {},
   "outputs": [],
   "source": []
  }
 ],
 "metadata": {
  "kernelspec": {
   "display_name": "Python 3",
   "language": "python",
   "name": "python3"
  },
  "language_info": {
   "codemirror_mode": {
    "name": "ipython",
    "version": 3
   },
   "file_extension": ".py",
   "mimetype": "text/x-python",
   "name": "python",
   "nbconvert_exporter": "python",
   "pygments_lexer": "ipython3",
   "version": "3.9.0"
  }
 },
 "nbformat": 4,
 "nbformat_minor": 5
}
