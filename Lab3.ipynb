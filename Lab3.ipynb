{
 "cells": [
  {
   "cell_type": "code",
   "execution_count": 3,
   "id": "exposed-apparatus",
   "metadata": {},
   "outputs": [
    {
     "data": {
      "application/vnd.jupyter.widget-view+json": {
       "model_id": "fc899c2033d2463499be24b848f019d2",
       "version_major": 2,
       "version_minor": 0
      },
      "text/plain": [
       "interactive(children=(IntSlider(value=10, description='xz', max=30, min=-10), IntSlider(value=20, description=…"
      ]
     },
     "metadata": {},
     "output_type": "display_data"
    }
   ],
   "source": [
    "import numpy as np\n",
    "import matplotlib.pyplot as plt\n",
    "\n",
    "from __future__ import print_function\n",
    "from ipywidgets import interact, interactive, fixed, interact_manual\n",
    "import ipywidgets as widgets\n",
    "\n",
    "x=np.array([0.0, 10.0, 20.0, 30.0, 40.0], dtype=float)\n",
    "y=np.array([10, 20, 10, 10, 10], dtype=float)\n",
    "def lagranz(x,y,t):\n",
    "    z=0\n",
    "    for j in range(len(y)):\n",
    "        p1=1; p2=1\n",
    "        for i in range(len(x)):\n",
    "            if i==j:\n",
    "                p1=p1*1\n",
    "                p2=p2*1   \n",
    "            else: \n",
    "                p1=p1*(t-x[i])\n",
    "                p2=p2*(x[j]-x[i])\n",
    "        z=z+y[j]*p1/p2\n",
    "    return z\n",
    "\n",
    "def update(xz, ze, a, b, c):\n",
    "    x=np.array([0.0, 10.0, 20.0, 30.0, 40.0], dtype=float)\n",
    "    y=np.array([10, 20, 10, 10, 10], dtype=float)\n",
    "    y[0] = xz\n",
    "    y[2] = ze\n",
    "    y[1] = a\n",
    "    xnew=np.linspace(np.min(x),np.max(x),100)\n",
    "    ynew=[lagranz(x,y,i) for i in xnew]\n",
    "    plt.plot(x,y,'o',xnew,ynew)\n",
    "    plt.grid(True)\n",
    "    plt.show()\n",
    "\n",
    "interactive(update, xz=10, ze = 20, a = 20, b = 20, c = 10)\n"
   ]
  },
  {
   "cell_type": "code",
   "execution_count": null,
   "id": "brown-background",
   "metadata": {},
   "outputs": [],
   "source": []
  },
  {
   "cell_type": "code",
   "execution_count": null,
   "id": "happy-delivery",
   "metadata": {},
   "outputs": [],
   "source": []
  },
  {
   "cell_type": "code",
   "execution_count": null,
   "id": "personalized-prior",
   "metadata": {},
   "outputs": [],
   "source": []
  },
  {
   "cell_type": "code",
   "execution_count": null,
   "id": "religious-continent",
   "metadata": {},
   "outputs": [],
   "source": []
  }
 ],
 "metadata": {
  "kernelspec": {
   "display_name": "Python 3",
   "language": "python",
   "name": "python3"
  },
  "language_info": {
   "codemirror_mode": {
    "name": "ipython",
    "version": 3
   },
   "file_extension": ".py",
   "mimetype": "text/x-python",
   "name": "python",
   "nbconvert_exporter": "python",
   "pygments_lexer": "ipython3",
   "version": "3.9.0"
  }
 },
 "nbformat": 4,
 "nbformat_minor": 5
}
